{
 "cells": [
  {
   "cell_type": "code",
   "execution_count": 1,
   "metadata": {},
   "outputs": [],
   "source": [
    "import sys\n",
    "sys.path.append(\"/home/aiuser/work/userlib/BigQuant_Resources_Collection/BigQuant_Resources_Collection/00_General_Resources/General_Tool\")\n",
    "sys.path.append(\"/home/aiuser/work/userlib/BigQuant_Resources_Collection/BigQuant_Resources_Collection/00_General_Resources/General_Factor\")\n",
    "from cn_general_tool import *\n",
    "from cn_general_factors_vpta import *"
   ]
  },
  {
   "cell_type": "code",
   "execution_count": 2,
   "metadata": {},
   "outputs": [],
   "source": [
    "sd, ed = get_sd_ed('2024-11-25', '2024-11-25')"
   ]
  },
  {
   "cell_type": "code",
   "execution_count": 3,
   "metadata": {},
   "outputs": [
    {
     "data": {
      "text/html": [
       "<div>\n",
       "<style scoped>\n",
       "    .dataframe tbody tr th:only-of-type {\n",
       "        vertical-align: middle;\n",
       "    }\n",
       "\n",
       "    .dataframe tbody tr th {\n",
       "        vertical-align: top;\n",
       "    }\n",
       "\n",
       "    .dataframe thead th {\n",
       "        text-align: right;\n",
       "    }\n",
       "</style>\n",
       "<table border=\"1\" class=\"dataframe\">\n",
       "  <thead>\n",
       "    <tr style=\"text-align: right;\">\n",
       "      <th></th>\n",
       "      <th>date</th>\n",
       "      <th>instrument</th>\n",
       "      <th>alpha_vpta_mavg_close_5</th>\n",
       "    </tr>\n",
       "  </thead>\n",
       "  <tbody>\n",
       "    <tr>\n",
       "      <th>0</th>\n",
       "      <td>2024-11-25</td>\n",
       "      <td>PHABTC</td>\n",
       "      <td>1.404000e-06</td>\n",
       "    </tr>\n",
       "    <tr>\n",
       "      <th>1</th>\n",
       "      <td>2024-11-25</td>\n",
       "      <td>PIXELFDUSD</td>\n",
       "      <td>2.190600e-01</td>\n",
       "    </tr>\n",
       "    <tr>\n",
       "      <th>2</th>\n",
       "      <td>2024-11-25</td>\n",
       "      <td>PONDBTC</td>\n",
       "      <td>1.760000e-07</td>\n",
       "    </tr>\n",
       "    <tr>\n",
       "      <th>3</th>\n",
       "      <td>2024-11-25</td>\n",
       "      <td>RARETRY</td>\n",
       "      <td>4.418400e+00</td>\n",
       "    </tr>\n",
       "    <tr>\n",
       "      <th>4</th>\n",
       "      <td>2024-11-25</td>\n",
       "      <td>REQBTC</td>\n",
       "      <td>1.134000e-06</td>\n",
       "    </tr>\n",
       "    <tr>\n",
       "      <th>...</th>\n",
       "      <td>...</td>\n",
       "      <td>...</td>\n",
       "      <td>...</td>\n",
       "    </tr>\n",
       "    <tr>\n",
       "      <th>1269</th>\n",
       "      <td>2024-11-25</td>\n",
       "      <td>WINBNB</td>\n",
       "      <td>1.360000e-07</td>\n",
       "    </tr>\n",
       "    <tr>\n",
       "      <th>1270</th>\n",
       "      <td>2024-11-25</td>\n",
       "      <td>WUSDT</td>\n",
       "      <td>2.615000e-01</td>\n",
       "    </tr>\n",
       "    <tr>\n",
       "      <th>1271</th>\n",
       "      <td>2024-11-25</td>\n",
       "      <td>XRPETH</td>\n",
       "      <td>4.172600e-04</td>\n",
       "    </tr>\n",
       "    <tr>\n",
       "      <th>1272</th>\n",
       "      <td>2024-11-25</td>\n",
       "      <td>ZENUSDT</td>\n",
       "      <td>1.029400e+01</td>\n",
       "    </tr>\n",
       "    <tr>\n",
       "      <th>1273</th>\n",
       "      <td>2024-11-25</td>\n",
       "      <td>ZILTRY</td>\n",
       "      <td>8.001400e-01</td>\n",
       "    </tr>\n",
       "  </tbody>\n",
       "</table>\n",
       "<p>1274 rows × 3 columns</p>\n",
       "</div>"
      ],
      "text/plain": [
       "           date  instrument  alpha_vpta_mavg_close_5\n",
       "0    2024-11-25      PHABTC             1.404000e-06\n",
       "1    2024-11-25  PIXELFDUSD             2.190600e-01\n",
       "2    2024-11-25     PONDBTC             1.760000e-07\n",
       "3    2024-11-25     RARETRY             4.418400e+00\n",
       "4    2024-11-25      REQBTC             1.134000e-06\n",
       "...         ...         ...                      ...\n",
       "1269 2024-11-25      WINBNB             1.360000e-07\n",
       "1270 2024-11-25       WUSDT             2.615000e-01\n",
       "1271 2024-11-25      XRPETH             4.172600e-04\n",
       "1272 2024-11-25     ZENUSDT             1.029400e+01\n",
       "1273 2024-11-25      ZILTRY             8.001400e-01\n",
       "\n",
       "[1274 rows x 3 columns]"
      ]
     },
     "execution_count": 3,
     "metadata": {},
     "output_type": "execute_result"
    }
   ],
   "source": [
    "alpha_vpta_mavg(sd, ed, col=\"close\", n=5, data_base=\"cc_binance_spot_bar1d\")  # cc_binance_spot_bar1m"
   ]
  }
 ],
 "metadata": {
  "kernelspec": {
   "display_name": "Python 3",
   "language": "python",
   "name": "python3"
  },
  "language_info": {
   "codemirror_mode": {
    "name": "ipython",
    "version": 3
   },
   "file_extension": ".py",
   "mimetype": "text/x-python",
   "name": "python",
   "nbconvert_exporter": "python",
   "pygments_lexer": "ipython3",
   "version": "3.11.8"
  }
 },
 "nbformat": 4,
 "nbformat_minor": 2
}

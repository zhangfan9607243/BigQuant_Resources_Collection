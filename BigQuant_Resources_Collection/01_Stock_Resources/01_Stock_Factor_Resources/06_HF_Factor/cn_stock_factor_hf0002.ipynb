{
 "cells": [
  {
   "cell_type": "code",
   "execution_count": 3,
   "metadata": {},
   "outputs": [],
   "source": [
    "import dai\n",
    "import pandas as pd\n",
    "import numpy as np\n",
    "import time\n",
    "from datetime import timedelta"
   ]
  },
  {
   "cell_type": "code",
   "execution_count": null,
   "metadata": {},
   "outputs": [],
   "source": [
    "ed = dai.query(\"SELECT DISTINCT date FROM cn_stock_bar1d WHERE date >= '2024-01-01'\").df()['date'].max().strftime(\"%Y-%m-%d\")\n",
    "sd = (pd.Timestamp(ed) - timedelta(days=45)).strftime(\"%Y-%m-%d\")"
   ]
  },
  {
   "cell_type": "code",
   "execution_count": 4,
   "metadata": {},
   "outputs": [],
   "source": [
    "def calc_data(instrument, sd, ed):\n",
    "    \n",
    "    sql = f\"\"\"\n",
    "    WITH \n",
    "    cn_stock_bar5m AS(\n",
    "        SELECT \n",
    "            instrument,\n",
    "            DATE_TRUNC('hour', date) + INTERVAL '5 min' * CAST(FLOOR(EXTRACT(minute FROM date) / 5) AS BIGINT) AS date_time,\n",
    "            make_date(year(date_time), month(date_time),  day(date_time))    AS day,\n",
    "            make_time(hour(date_time), minute(date_time), second(date_time)) AS time,\n",
    "            MAX(high*adjust_factor)   OVER (PARTITION BY date_time) AS high,\n",
    "            MIN(low*adjust_factor)    OVER (PARTITION BY date_time) AS low,\n",
    "            FIRST(open*adjust_factor) OVER (PARTITION BY date_time) AS open,\n",
    "            LAST(close*adjust_factor) OVER (PARTITION BY date_time) AS close,\n",
    "            SUM(volume)               OVER (PARTITION BY date_time) AS volume,\n",
    "            row_number()              OVER (PARTITION BY date_time) AS _rn,\n",
    "        FROM cn_stock_bar1m\n",
    "        WHERE date >= '{sd} 00:00:00.000' AND date <= '{ed} 23:59:59.999'\n",
    "        AND instrument = '{instrument}'\n",
    "        QUALIFY _rn = 1\n",
    "        ORDER BY date, instrument\n",
    "    ),\n",
    "\n",
    "    data1 AS (\n",
    "        SELECT\n",
    "            *,\n",
    "            IF(ABS(close-open) <= 0.95*ABS(high-low), 1, 0) AS consist,\n",
    "            IF(ABS(close-open) <= 0.95*ABS(high-low) AND close > open, 1, 0) AS consist_r,\n",
    "            IF(ABS(close-open) <= 0.95*ABS(high-low) AND close < open, 1, 0) AS consist_f,\n",
    "            IF(SUM(volume) OVER(PARTITION BY day, instrument) = 0, 0, SUM(volume*consist) OVER(PARTITION BY day, instrument) / SUM(volume) OVER(PARTITION BY day, instrument)) AS TCV,\n",
    "            IF(SUM(volume) OVER(PARTITION BY day, instrument) = 0, 0, SUM(volume*consist_r) OVER(PARTITION BY day, instrument) / SUM(volume) OVER(PARTITION BY day, instrument)) AS PCV,\n",
    "            IF(SUM(volume) OVER(PARTITION BY day, instrument) = 0, 0, SUM(volume*consist_f) OVER(PARTITION BY day, instrument) / SUM(volume) OVER(PARTITION BY day, instrument)) AS NCV,\n",
    "        FROM cn_stock_bar5m\n",
    "    ),\n",
    "\n",
    "    data2 AS (\n",
    "        SELECT DISTINCT \n",
    "            day AS date,\n",
    "            instrument,\n",
    "            TCV,\n",
    "            PCV,\n",
    "            NCV,\n",
    "        FROM data1\n",
    "    ),\n",
    "\n",
    "    data3 AS (\n",
    "        SELECT\n",
    "            CAST(date AS TIMESTAMP) AS date,\n",
    "            instrument,\n",
    "            TCV               AS alpha_hf_00020001,\n",
    "            PCV               AS alpha_hf_00020002,\n",
    "            NCV               AS alpha_hf_00020003,\n",
    "        FROM data2\n",
    "    )\n",
    "\n",
    "    SELECT * \n",
    "    FROM data3\n",
    "\n",
    "    \"\"\"\n",
    "\n",
    "    data = dai.query(sql, filters = {\"date\" : [sd+' 00:00:00.000', ed+' 23:59:59.999']}).df()\n",
    "    return data"
   ]
  }
 ],
 "metadata": {
  "kernelspec": {
   "display_name": "Python 3",
   "language": "python",
   "name": "python3"
  },
  "language_info": {
   "codemirror_mode": {
    "name": "ipython",
    "version": 3
   },
   "file_extension": ".py",
   "mimetype": "text/x-python",
   "name": "python",
   "nbconvert_exporter": "python",
   "pygments_lexer": "ipython3",
   "version": "3.8.12"
  },
  "orig_nbformat": 4
 },
 "nbformat": 4,
 "nbformat_minor": 2
}

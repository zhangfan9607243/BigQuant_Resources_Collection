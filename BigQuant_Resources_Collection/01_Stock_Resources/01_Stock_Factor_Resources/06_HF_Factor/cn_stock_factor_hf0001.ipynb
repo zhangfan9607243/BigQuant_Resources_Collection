{
 "cells": [
  {
   "cell_type": "code",
   "execution_count": null,
   "metadata": {},
   "outputs": [],
   "source": [
    "import dai\n",
    "import pandas as pd\n",
    "import numpy as np\n",
    "import time\n",
    "from datetime import timedelta"
   ]
  },
  {
   "cell_type": "code",
   "execution_count": null,
   "metadata": {},
   "outputs": [],
   "source": [
    "ed = dai.query(\"SELECT DISTINCT date FROM cn_stock_bar1d WHERE date >= '2024-01-01'\").df()['date'].max().strftime(\"%Y-%m-%d\")\n",
    "sd = (pd.Timestamp(ed) - timedelta(days=45)).strftime(\"%Y-%m-%d\")"
   ]
  },
  {
   "cell_type": "code",
   "execution_count": null,
   "metadata": {},
   "outputs": [],
   "source": [
    "sql = \"\"\"\n",
    "\n",
    "WITH \n",
    "\n",
    "data1 AS (\n",
    "    SELECT \n",
    "        *,\n",
    "        make_date(year(date), month(date),  day(date))    AS day,\n",
    "        make_time(hour(date), minute(date), second(date)) AS time,\n",
    "        m_nanavg(volume, 5) / m_nanavg(volume, 30)        AS ATV,\n",
    "        c_pct_rank(ATV)                                   AS rank_ATV,\n",
    "    FROM cn_stock_bar1m\n",
    "    WHERE instrument NOT LIKE '%BJ'\n",
    "    ORDER BY date, instrument\n",
    "),\n",
    "\n",
    "data2 AS (\n",
    "    SELECT\n",
    "        *,\n",
    "        day,\n",
    "        time,\n",
    "        AVG(rank_ATV) OVER(PARTITION BY day, instrument)      AS mean_rank_ATV,\n",
    "        STDDEV(rank_ATV) OVER(PARTITION BY day, instrument)   AS std_rank_ATV,\n",
    "        KURTOSIS(rank_ATV) OVER(PARTITION BY day, instrument) AS kurtosis_rank_ATV,\n",
    "    FROM data1\n",
    "    ORDER BY instrument, date\n",
    "),\n",
    "\n",
    "data3 AS (\n",
    "    SELECT DISTINCT\n",
    "        day AS date,\n",
    "        instrument,\n",
    "        mean_rank_ATV,\n",
    "        std_rank_ATV,\n",
    "        kurtosis_rank_ATV,\n",
    "    FROM data2\n",
    "),\n",
    "\n",
    "data4 AS (\n",
    "    SELECT\n",
    "        date,\n",
    "        instrument,\n",
    "        mean_rank_ATV                                    AS alpha_hf_00010001,\n",
    "        std_rank_ATV                                     AS alpha_hf_00010002,\n",
    "        kurtosis_rank_ATV                                AS alpha_hf_00010003,\n",
    "        mean_rank_ATV / std_rank_ATV + kurtosis_rank_ATV AS alpha_hf_00010004,\n",
    "    FROM data3\n",
    ")\n",
    "\n",
    "SELECT * \n",
    "FROM  data4\n",
    "QUALIFY COLUMNS(*) IS NOT NULL\n",
    "ORDER BY date, instrument\n",
    "\n",
    "\"\"\""
   ]
  }
 ],
 "metadata": {
  "is_mlstudio": "false",
  "kernelspec": {
   "display_name": "Python 3",
   "language": "python",
   "name": "python3"
  },
  "language_info": {
   "codemirror_mode": {
    "name": "ipython",
    "version": 3
   },
   "file_extension": ".py",
   "mimetype": "text/x-python",
   "name": "python",
   "nbconvert_exporter": "python",
   "pygments_lexer": "ipython3",
   "version": "3.8.12"
  },
  "vscode": {
   "interpreter": {
    "hash": "916dbcbb3f70747c44a77c7bcd40155683ae19c65e1c03b4aa3499c5328201f1"
   }
  }
 },
 "nbformat": 4,
 "nbformat_minor": 4
}

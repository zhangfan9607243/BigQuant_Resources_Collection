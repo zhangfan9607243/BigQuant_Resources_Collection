{
 "cells": [
  {
   "cell_type": "code",
   "execution_count": 1,
   "metadata": {},
   "outputs": [],
   "source": [
    "import sys\n",
    "sys.path.append(\"/home/aiuser/work/userlib/BigQuant_Resources_Collection/BigQuant_Resources_Collection/00_General_Resources/General_Tool\")\n",
    "sys.path.append(\"/home/aiuser/work/userlib/BigQuant_Resources_Collection/BigQuant_Resources_Collection/00_General_Resources/General_Factor\")\n",
    "from cn_general_tool import *\n",
    "from cn_general_factors_vpta import *"
   ]
  },
  {
   "cell_type": "code",
   "execution_count": 2,
   "metadata": {},
   "outputs": [],
   "source": [
    "sd, ed = get_sd_ed('2024-11-25', '2024-11-25')"
   ]
  },
  {
   "cell_type": "code",
   "execution_count": 3,
   "metadata": {},
   "outputs": [
    {
     "data": {
      "text/html": [
       "<div>\n",
       "<style scoped>\n",
       "    .dataframe tbody tr th:only-of-type {\n",
       "        vertical-align: middle;\n",
       "    }\n",
       "\n",
       "    .dataframe tbody tr th {\n",
       "        vertical-align: top;\n",
       "    }\n",
       "\n",
       "    .dataframe thead th {\n",
       "        text-align: right;\n",
       "    }\n",
       "</style>\n",
       "<table border=\"1\" class=\"dataframe\">\n",
       "  <thead>\n",
       "    <tr style=\"text-align: right;\">\n",
       "      <th></th>\n",
       "      <th>date</th>\n",
       "      <th>instrument</th>\n",
       "      <th>alpha_vpta_mavg_close_5</th>\n",
       "    </tr>\n",
       "  </thead>\n",
       "  <tbody>\n",
       "    <tr>\n",
       "      <th>0</th>\n",
       "      <td>2024-11-25</td>\n",
       "      <td>159309.SZ</td>\n",
       "      <td>0.9950</td>\n",
       "    </tr>\n",
       "    <tr>\n",
       "      <th>1</th>\n",
       "      <td>2024-11-25</td>\n",
       "      <td>159501.SZ</td>\n",
       "      <td>1.4118</td>\n",
       "    </tr>\n",
       "    <tr>\n",
       "      <th>2</th>\n",
       "      <td>2024-11-25</td>\n",
       "      <td>159518.SZ</td>\n",
       "      <td>1.0296</td>\n",
       "    </tr>\n",
       "    <tr>\n",
       "      <th>3</th>\n",
       "      <td>2024-11-25</td>\n",
       "      <td>159530.SZ</td>\n",
       "      <td>1.1666</td>\n",
       "    </tr>\n",
       "    <tr>\n",
       "      <th>4</th>\n",
       "      <td>2024-11-25</td>\n",
       "      <td>159537.SZ</td>\n",
       "      <td>1.1578</td>\n",
       "    </tr>\n",
       "    <tr>\n",
       "      <th>...</th>\n",
       "      <td>...</td>\n",
       "      <td>...</td>\n",
       "      <td>...</td>\n",
       "    </tr>\n",
       "    <tr>\n",
       "      <th>1459</th>\n",
       "      <td>2024-11-25</td>\n",
       "      <td>563050.SH</td>\n",
       "      <td>0.9026</td>\n",
       "    </tr>\n",
       "    <tr>\n",
       "      <th>1460</th>\n",
       "      <td>2024-11-25</td>\n",
       "      <td>588100.SH</td>\n",
       "      <td>1.2754</td>\n",
       "    </tr>\n",
       "    <tr>\n",
       "      <th>1461</th>\n",
       "      <td>2024-11-25</td>\n",
       "      <td>588320.SH</td>\n",
       "      <td>0.9172</td>\n",
       "    </tr>\n",
       "    <tr>\n",
       "      <th>1462</th>\n",
       "      <td>2024-11-25</td>\n",
       "      <td>588350.SH</td>\n",
       "      <td>0.8886</td>\n",
       "    </tr>\n",
       "    <tr>\n",
       "      <th>1463</th>\n",
       "      <td>2024-11-25</td>\n",
       "      <td>588800.SH</td>\n",
       "      <td>0.8990</td>\n",
       "    </tr>\n",
       "  </tbody>\n",
       "</table>\n",
       "<p>1464 rows × 3 columns</p>\n",
       "</div>"
      ],
      "text/plain": [
       "           date instrument  alpha_vpta_mavg_close_5\n",
       "0    2024-11-25  159309.SZ                   0.9950\n",
       "1    2024-11-25  159501.SZ                   1.4118\n",
       "2    2024-11-25  159518.SZ                   1.0296\n",
       "3    2024-11-25  159530.SZ                   1.1666\n",
       "4    2024-11-25  159537.SZ                   1.1578\n",
       "...         ...        ...                      ...\n",
       "1459 2024-11-25  563050.SH                   0.9026\n",
       "1460 2024-11-25  588100.SH                   1.2754\n",
       "1461 2024-11-25  588320.SH                   0.9172\n",
       "1462 2024-11-25  588350.SH                   0.8886\n",
       "1463 2024-11-25  588800.SH                   0.8990\n",
       "\n",
       "[1464 rows x 3 columns]"
      ]
     },
     "execution_count": 3,
     "metadata": {},
     "output_type": "execute_result"
    }
   ],
   "source": [
    "alpha_vpta_mavg(sd, ed, col=\"close\", n=5, data_base=\"cn_fund_bar1d\")"
   ]
  }
 ],
 "metadata": {
  "kernelspec": {
   "display_name": "Python 3",
   "language": "python",
   "name": "python3"
  },
  "language_info": {
   "codemirror_mode": {
    "name": "ipython",
    "version": 3
   },
   "file_extension": ".py",
   "mimetype": "text/x-python",
   "name": "python",
   "nbconvert_exporter": "python",
   "pygments_lexer": "ipython3",
   "version": "3.11.8"
  }
 },
 "nbformat": 4,
 "nbformat_minor": 2
}

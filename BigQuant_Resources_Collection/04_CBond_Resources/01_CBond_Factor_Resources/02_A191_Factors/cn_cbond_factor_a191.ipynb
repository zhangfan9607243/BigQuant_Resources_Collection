{
 "cells": [
  {
   "cell_type": "code",
   "execution_count": 1,
   "metadata": {},
   "outputs": [],
   "source": [
    "import sys\n",
    "sys.path.append(\"/home/aiuser/work/userlib/BigQuant_Resources_Collection/BigQuant_Resources_Collection/00_General_Resources/General_Tool\")\n",
    "sys.path.append(\"/home/aiuser/work/userlib/BigQuant_Resources_Collection/BigQuant_Resources_Collection/00_General_Resources/General_Factor\")\n",
    "from cn_general_tool import *\n",
    "from cn_general_factors_a191 import *"
   ]
  },
  {
   "cell_type": "code",
   "execution_count": 2,
   "metadata": {},
   "outputs": [],
   "source": [
    "sd, ed = get_sd_ed('2024-11-24', '2024-11-25')"
   ]
  },
  {
   "cell_type": "code",
   "execution_count": 3,
   "metadata": {},
   "outputs": [
    {
     "data": {
      "text/html": [
       "<div>\n",
       "<style scoped>\n",
       "    .dataframe tbody tr th:only-of-type {\n",
       "        vertical-align: middle;\n",
       "    }\n",
       "\n",
       "    .dataframe tbody tr th {\n",
       "        vertical-align: top;\n",
       "    }\n",
       "\n",
       "    .dataframe thead th {\n",
       "        text-align: right;\n",
       "    }\n",
       "</style>\n",
       "<table border=\"1\" class=\"dataframe\">\n",
       "  <thead>\n",
       "    <tr style=\"text-align: right;\">\n",
       "      <th></th>\n",
       "      <th>date</th>\n",
       "      <th>instrument</th>\n",
       "      <th>alpha_a191_f0001</th>\n",
       "    </tr>\n",
       "  </thead>\n",
       "  <tbody>\n",
       "    <tr>\n",
       "      <th>0</th>\n",
       "      <td>2024-11-25</td>\n",
       "      <td>110048.SH</td>\n",
       "      <td>-0.786643</td>\n",
       "    </tr>\n",
       "    <tr>\n",
       "      <th>1</th>\n",
       "      <td>2024-11-25</td>\n",
       "      <td>110052.SH</td>\n",
       "      <td>-0.882012</td>\n",
       "    </tr>\n",
       "    <tr>\n",
       "      <th>2</th>\n",
       "      <td>2024-11-25</td>\n",
       "      <td>110055.SH</td>\n",
       "      <td>0.029896</td>\n",
       "    </tr>\n",
       "    <tr>\n",
       "      <th>3</th>\n",
       "      <td>2024-11-25</td>\n",
       "      <td>110058.SH</td>\n",
       "      <td>-0.355615</td>\n",
       "    </tr>\n",
       "    <tr>\n",
       "      <th>4</th>\n",
       "      <td>2024-11-25</td>\n",
       "      <td>110059.SH</td>\n",
       "      <td>0.437361</td>\n",
       "    </tr>\n",
       "    <tr>\n",
       "      <th>...</th>\n",
       "      <td>...</td>\n",
       "      <td>...</td>\n",
       "      <td>...</td>\n",
       "    </tr>\n",
       "    <tr>\n",
       "      <th>541</th>\n",
       "      <td>2024-11-25</td>\n",
       "      <td>128138.SZ</td>\n",
       "      <td>0.040830</td>\n",
       "    </tr>\n",
       "    <tr>\n",
       "      <th>542</th>\n",
       "      <td>2024-11-25</td>\n",
       "      <td>128141.SZ</td>\n",
       "      <td>-0.320385</td>\n",
       "    </tr>\n",
       "    <tr>\n",
       "      <th>543</th>\n",
       "      <td>2024-11-25</td>\n",
       "      <td>128142.SZ</td>\n",
       "      <td>-0.634483</td>\n",
       "    </tr>\n",
       "    <tr>\n",
       "      <th>544</th>\n",
       "      <td>2024-11-25</td>\n",
       "      <td>128143.SZ</td>\n",
       "      <td>-0.429813</td>\n",
       "    </tr>\n",
       "    <tr>\n",
       "      <th>545</th>\n",
       "      <td>2024-11-25</td>\n",
       "      <td>128144.SZ</td>\n",
       "      <td>-0.344974</td>\n",
       "    </tr>\n",
       "  </tbody>\n",
       "</table>\n",
       "<p>546 rows × 3 columns</p>\n",
       "</div>"
      ],
      "text/plain": [
       "          date instrument  alpha_a191_f0001\n",
       "0   2024-11-25  110048.SH         -0.786643\n",
       "1   2024-11-25  110052.SH         -0.882012\n",
       "2   2024-11-25  110055.SH          0.029896\n",
       "3   2024-11-25  110058.SH         -0.355615\n",
       "4   2024-11-25  110059.SH          0.437361\n",
       "..         ...        ...               ...\n",
       "541 2024-11-25  128138.SZ          0.040830\n",
       "542 2024-11-25  128141.SZ         -0.320385\n",
       "543 2024-11-25  128142.SZ         -0.634483\n",
       "544 2024-11-25  128143.SZ         -0.429813\n",
       "545 2024-11-25  128144.SZ         -0.344974\n",
       "\n",
       "[546 rows x 3 columns]"
      ]
     },
     "execution_count": 3,
     "metadata": {},
     "output_type": "execute_result"
    }
   ],
   "source": [
    "alpha_a191_f0001(sd, ed, get_factor_df_function=get_factor_df_cbond)"
   ]
  }
 ],
 "metadata": {
  "kernelspec": {
   "display_name": "Python 3",
   "language": "python",
   "name": "python3"
  },
  "language_info": {
   "codemirror_mode": {
    "name": "ipython",
    "version": 3
   },
   "file_extension": ".py",
   "mimetype": "text/x-python",
   "name": "python",
   "nbconvert_exporter": "python",
   "pygments_lexer": "ipython3",
   "version": "3.11.8"
  }
 },
 "nbformat": 4,
 "nbformat_minor": 2
}

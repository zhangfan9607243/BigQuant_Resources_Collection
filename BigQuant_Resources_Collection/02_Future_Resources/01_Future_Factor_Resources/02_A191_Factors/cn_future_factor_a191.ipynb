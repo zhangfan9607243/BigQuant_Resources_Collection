{
 "cells": [
  {
   "cell_type": "code",
   "execution_count": 1,
   "metadata": {},
   "outputs": [],
   "source": [
    "import sys\n",
    "sys.path.append(\"/home/aiuser/work/userlib/BigQuant_Resources_Collection/BigQuant_Resources_Collection/00_General_Resources/General_Tool\")\n",
    "sys.path.append(\"/home/aiuser/work/userlib/BigQuant_Resources_Collection/BigQuant_Resources_Collection/00_General_Resources/General_Factor\")\n",
    "from cn_general_tool import *\n",
    "from cn_general_factors_a191 import *"
   ]
  },
  {
   "cell_type": "code",
   "execution_count": 2,
   "metadata": {},
   "outputs": [],
   "source": [
    "sd, ed = get_sd_ed('2024-11-24', '2024-11-25')"
   ]
  },
  {
   "cell_type": "code",
   "execution_count": 3,
   "metadata": {},
   "outputs": [
    {
     "data": {
      "text/html": [
       "<div>\n",
       "<style scoped>\n",
       "    .dataframe tbody tr th:only-of-type {\n",
       "        vertical-align: middle;\n",
       "    }\n",
       "\n",
       "    .dataframe tbody tr th {\n",
       "        vertical-align: top;\n",
       "    }\n",
       "\n",
       "    .dataframe thead th {\n",
       "        text-align: right;\n",
       "    }\n",
       "</style>\n",
       "<table border=\"1\" class=\"dataframe\">\n",
       "  <thead>\n",
       "    <tr style=\"text-align: right;\">\n",
       "      <th></th>\n",
       "      <th>date</th>\n",
       "      <th>instrument</th>\n",
       "      <th>alpha_a191_f0001</th>\n",
       "    </tr>\n",
       "  </thead>\n",
       "  <tbody>\n",
       "    <tr>\n",
       "      <th>0</th>\n",
       "      <td>2024-11-25</td>\n",
       "      <td>AP0000.CZC</td>\n",
       "      <td>-0.296069</td>\n",
       "    </tr>\n",
       "    <tr>\n",
       "      <th>1</th>\n",
       "      <td>2024-11-25</td>\n",
       "      <td>AP412.CZC</td>\n",
       "      <td>-0.839798</td>\n",
       "    </tr>\n",
       "    <tr>\n",
       "      <th>2</th>\n",
       "      <td>2024-11-25</td>\n",
       "      <td>AP501.CZC</td>\n",
       "      <td>-0.502423</td>\n",
       "    </tr>\n",
       "    <tr>\n",
       "      <th>3</th>\n",
       "      <td>2024-11-25</td>\n",
       "      <td>AP503.CZC</td>\n",
       "      <td>0.738093</td>\n",
       "    </tr>\n",
       "    <tr>\n",
       "      <th>4</th>\n",
       "      <td>2024-11-25</td>\n",
       "      <td>AP504.CZC</td>\n",
       "      <td>0.856946</td>\n",
       "    </tr>\n",
       "    <tr>\n",
       "      <th>...</th>\n",
       "      <td>...</td>\n",
       "      <td>...</td>\n",
       "      <td>...</td>\n",
       "    </tr>\n",
       "    <tr>\n",
       "      <th>1014</th>\n",
       "      <td>2024-11-25</td>\n",
       "      <td>zn2509.SHF</td>\n",
       "      <td>-0.697805</td>\n",
       "    </tr>\n",
       "    <tr>\n",
       "      <th>1015</th>\n",
       "      <td>2024-11-25</td>\n",
       "      <td>zn2510.SHF</td>\n",
       "      <td>-0.486899</td>\n",
       "    </tr>\n",
       "    <tr>\n",
       "      <th>1016</th>\n",
       "      <td>2024-11-25</td>\n",
       "      <td>zn2511.SHF</td>\n",
       "      <td>NaN</td>\n",
       "    </tr>\n",
       "    <tr>\n",
       "      <th>1017</th>\n",
       "      <td>2024-11-25</td>\n",
       "      <td>zn8888.SHF</td>\n",
       "      <td>0.577575</td>\n",
       "    </tr>\n",
       "    <tr>\n",
       "      <th>1018</th>\n",
       "      <td>2024-11-25</td>\n",
       "      <td>zn9999.SHF</td>\n",
       "      <td>NaN</td>\n",
       "    </tr>\n",
       "  </tbody>\n",
       "</table>\n",
       "<p>1019 rows × 3 columns</p>\n",
       "</div>"
      ],
      "text/plain": [
       "           date  instrument  alpha_a191_f0001\n",
       "0    2024-11-25  AP0000.CZC         -0.296069\n",
       "1    2024-11-25   AP412.CZC         -0.839798\n",
       "2    2024-11-25   AP501.CZC         -0.502423\n",
       "3    2024-11-25   AP503.CZC          0.738093\n",
       "4    2024-11-25   AP504.CZC          0.856946\n",
       "...         ...         ...               ...\n",
       "1014 2024-11-25  zn2509.SHF         -0.697805\n",
       "1015 2024-11-25  zn2510.SHF         -0.486899\n",
       "1016 2024-11-25  zn2511.SHF               NaN\n",
       "1017 2024-11-25  zn8888.SHF          0.577575\n",
       "1018 2024-11-25  zn9999.SHF               NaN\n",
       "\n",
       "[1019 rows x 3 columns]"
      ]
     },
     "execution_count": 3,
     "metadata": {},
     "output_type": "execute_result"
    }
   ],
   "source": [
    "alpha_a191_f0001(sd, ed, get_factor_df_function=get_factor_df_future)"
   ]
  }
 ],
 "metadata": {
  "kernelspec": {
   "display_name": "Python 3",
   "language": "python",
   "name": "python3"
  },
  "language_info": {
   "codemirror_mode": {
    "name": "ipython",
    "version": 3
   },
   "file_extension": ".py",
   "mimetype": "text/x-python",
   "name": "python",
   "nbconvert_exporter": "python",
   "pygments_lexer": "ipython3",
   "version": "3.11.8"
  }
 },
 "nbformat": 4,
 "nbformat_minor": 2
}
